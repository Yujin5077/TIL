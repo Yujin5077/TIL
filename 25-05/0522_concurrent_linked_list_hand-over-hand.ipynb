{
  "nbformat": 4,
  "nbformat_minor": 0,
  "metadata": {
    "colab": {
      "provenance": [],
      "authorship_tag": "ABX9TyMBxMsxoUZEegbhZH/nSeqc",
      "include_colab_link": true
    },
    "kernelspec": {
      "name": "python3",
      "display_name": "Python 3"
    },
    "language_info": {
      "name": "python"
    }
  },
  "cells": [
    {
      "cell_type": "markdown",
      "metadata": {
        "id": "view-in-github",
        "colab_type": "text"
      },
      "source": [
        "<a href=\"https://colab.research.google.com/github/Yujin5077/TIL/blob/main/25-05/linked_list.ipynb\" target=\"_parent\"><img src=\"https://colab.research.google.com/assets/colab-badge.svg\" alt=\"Open In Colab\"/></a>"
      ]
    },
    {
      "cell_type": "code",
      "execution_count": 1,
      "metadata": {
        "colab": {
          "base_uri": "https://localhost:8080/"
        },
        "id": "YwZs8ZF8zFGU",
        "outputId": "741c05a8-a87d-4826-d7e1-4a8b559c0ee6"
      },
      "outputs": [
        {
          "output_type": "stream",
          "name": "stdout",
          "text": [
            "Mounted at /content/drive\n"
          ]
        }
      ],
      "source": [
        "from google.colab import drive\n",
        "drive.mount('/content/drive')"
      ]
    },
    {
      "cell_type": "code",
      "source": [
        "%cd /content/drive/MyDrive/ColabNotebooks/OS"
      ],
      "metadata": {
        "colab": {
          "base_uri": "https://localhost:8080/"
        },
        "id": "kyZCBHhozTNu",
        "outputId": "5735b1e5-8527-45af-f1ba-f64641542827"
      },
      "execution_count": 2,
      "outputs": [
        {
          "output_type": "stream",
          "name": "stdout",
          "text": [
            "/content/drive/MyDrive/ColabNotebooks/OS\n"
          ]
        }
      ]
    },
    {
      "cell_type": "code",
      "source": [
        "!apt-get install gcc"
      ],
      "metadata": {
        "colab": {
          "base_uri": "https://localhost:8080/"
        },
        "id": "9_NNHpX0zTS_",
        "outputId": "b658fa54-328d-4137-88dd-ac0374a99e36"
      },
      "execution_count": 3,
      "outputs": [
        {
          "output_type": "stream",
          "name": "stdout",
          "text": [
            "Reading package lists... Done\n",
            "Building dependency tree... Done\n",
            "Reading state information... Done\n",
            "gcc is already the newest version (4:11.2.0-1ubuntu1).\n",
            "gcc set to manually installed.\n",
            "0 upgraded, 0 newly installed, 0 to remove and 34 not upgraded.\n"
          ]
        }
      ]
    },
    {
      "cell_type": "markdown",
      "source": [
        "-------------------------------------"
      ],
      "metadata": {
        "id": "PyyloX5E4X0X"
      }
    },
    {
      "cell_type": "markdown",
      "source": [
        "concurrent linked list\n",
        "- [ostep의 concurrent linked list 코드링크](https://github.com/xxyzz/ostep-hw/blob/master/29/concurrent-linked-list.c)"
      ],
      "metadata": {
        "id": "zNGP8YSK4ZOO"
      }
    },
    {
      "cell_type": "code",
      "source": [
        "!gcc -o concurrent-linked-list.out concurrent-linked-list.c thread_helper.h -pthread"
      ],
      "metadata": {
        "id": "5k6jZvKNzTXQ"
      },
      "execution_count": 7,
      "outputs": []
    },
    {
      "cell_type": "code",
      "source": [
        "!./concurrent-linked-list.out 10 2 1"
      ],
      "metadata": {
        "colab": {
          "base_uri": "https://localhost:8080/"
        },
        "id": "Bot-XB5o0bqZ",
        "outputId": "eeac7808-aa3a-4e13-b556-acce7d6397d5"
      },
      "execution_count": 11,
      "outputs": [
        {
          "output_type": "stream",
          "name": "stdout",
          "text": [
            "9\n",
            "8\n",
            "7\n",
            "6\n",
            "5\n",
            "4\n",
            "3\n",
            "2\n",
            "1\n",
            "0\n",
            "1 threads, time (seconds): 0.000384\n",
            "\n",
            "9\n",
            "8\n",
            "7\n",
            "6\n",
            "5\n",
            "4\n",
            "3\n",
            "2\n",
            "1\n",
            "0\n",
            "2 threads, time (seconds): 0.000137\n",
            "\n"
          ]
        }
      ]
    },
    {
      "cell_type": "code",
      "source": [
        "!./concurrent-linked-list.out 10000 1 0"
      ],
      "metadata": {
        "colab": {
          "base_uri": "https://localhost:8080/"
        },
        "id": "x6WtgMlw1Vqm",
        "outputId": "3cd0e639-9b43-46e7-fc8a-639e99b89516"
      },
      "execution_count": 12,
      "outputs": [
        {
          "output_type": "stream",
          "name": "stdout",
          "text": [
            "1 threads, time (seconds): 0.000461\n",
            "\n"
          ]
        }
      ]
    },
    {
      "cell_type": "code",
      "source": [
        "!./concurrent-linked-list.out 10000 2 0"
      ],
      "metadata": {
        "colab": {
          "base_uri": "https://localhost:8080/"
        },
        "id": "joaMtYRC1VvP",
        "outputId": "be96838c-95e0-4579-d70b-fb068da71338"
      },
      "execution_count": 13,
      "outputs": [
        {
          "output_type": "stream",
          "name": "stdout",
          "text": [
            "1 threads, time (seconds): 0.000420\n",
            "\n",
            "2 threads, time (seconds): 0.000226\n",
            "\n"
          ]
        }
      ]
    },
    {
      "cell_type": "code",
      "source": [
        "!./concurrent-linked-list.out 10000 4 0"
      ],
      "metadata": {
        "colab": {
          "base_uri": "https://localhost:8080/"
        },
        "id": "5v0LLoR51oMH",
        "outputId": "e43fe1c9-8acb-4ca5-9d17-36f4e1f65660"
      },
      "execution_count": 14,
      "outputs": [
        {
          "output_type": "stream",
          "name": "stdout",
          "text": [
            "1 threads, time (seconds): 0.000441\n",
            "\n",
            "2 threads, time (seconds): 0.000218\n",
            "\n",
            "3 threads, time (seconds): 0.000490\n",
            "\n",
            "4 threads, time (seconds): 0.000373\n",
            "\n"
          ]
        }
      ]
    },
    {
      "cell_type": "code",
      "source": [
        "!./concurrent-linked-list.out 10000 8 0"
      ],
      "metadata": {
        "colab": {
          "base_uri": "https://localhost:8080/"
        },
        "id": "RZZ8eijZ1V0r",
        "outputId": "14883d2d-79c8-4bf7-f5c2-133560f1a97a"
      },
      "execution_count": 15,
      "outputs": [
        {
          "output_type": "stream",
          "name": "stdout",
          "text": [
            "1 threads, time (seconds): 0.000411\n",
            "\n",
            "2 threads, time (seconds): 0.000230\n",
            "\n",
            "3 threads, time (seconds): 0.000249\n",
            "\n",
            "4 threads, time (seconds): 0.000257\n",
            "\n",
            "5 threads, time (seconds): 0.000383\n",
            "\n",
            "6 threads, time (seconds): 0.000446\n",
            "\n",
            "7 threads, time (seconds): 0.000455\n",
            "\n",
            "8 threads, time (seconds): 0.000669\n",
            "\n"
          ]
        }
      ]
    },
    {
      "cell_type": "code",
      "source": [
        "!./concurrent-linked-list.out 10000 16 0"
      ],
      "metadata": {
        "colab": {
          "base_uri": "https://localhost:8080/"
        },
        "id": "cR_o8XSr1V60",
        "outputId": "4b6b602e-0bcf-461e-b5f2-56875c38cb64"
      },
      "execution_count": 16,
      "outputs": [
        {
          "output_type": "stream",
          "name": "stdout",
          "text": [
            "1 threads, time (seconds): 0.000530\n",
            "\n",
            "2 threads, time (seconds): 0.000234\n",
            "\n",
            "3 threads, time (seconds): 0.000258\n",
            "\n",
            "4 threads, time (seconds): 0.000462\n",
            "\n",
            "5 threads, time (seconds): 0.000357\n",
            "\n",
            "6 threads, time (seconds): 0.000476\n",
            "\n",
            "7 threads, time (seconds): 0.000602\n",
            "\n",
            "8 threads, time (seconds): 0.000612\n",
            "\n",
            "9 threads, time (seconds): 0.000748\n",
            "\n",
            "10 threads, time (seconds): 0.001058\n",
            "\n",
            "11 threads, time (seconds): 0.001429\n",
            "\n",
            "12 threads, time (seconds): 0.000976\n",
            "\n",
            "13 threads, time (seconds): 0.001101\n",
            "\n",
            "14 threads, time (seconds): 0.001421\n",
            "\n",
            "15 threads, time (seconds): 0.001279\n",
            "\n",
            "16 threads, time (seconds): 0.001663\n",
            "\n"
          ]
        }
      ]
    },
    {
      "cell_type": "code",
      "source": [
        "!./concurrent-linked-list.out 100000 1 0"
      ],
      "metadata": {
        "colab": {
          "base_uri": "https://localhost:8080/"
        },
        "id": "vtBQ0nUS5Sn3",
        "outputId": "156e4baa-eba7-4996-dffb-36637867aa64"
      },
      "execution_count": 24,
      "outputs": [
        {
          "output_type": "stream",
          "name": "stdout",
          "text": [
            "1 threads, time (seconds): 0.001438\n",
            "\n"
          ]
        }
      ]
    },
    {
      "cell_type": "code",
      "source": [
        "!./concurrent-linked-list.out 100000 2 0"
      ],
      "metadata": {
        "colab": {
          "base_uri": "https://localhost:8080/"
        },
        "id": "ffGzrESY5TuZ",
        "outputId": "e190a552-ce74-4123-fda2-c8114543961e"
      },
      "execution_count": 25,
      "outputs": [
        {
          "output_type": "stream",
          "name": "stdout",
          "text": [
            "1 threads, time (seconds): 0.001119\n",
            "\n",
            "2 threads, time (seconds): 0.001406\n",
            "\n"
          ]
        }
      ]
    },
    {
      "cell_type": "code",
      "source": [
        "!./concurrent-linked-list.out 100000 4 0"
      ],
      "metadata": {
        "colab": {
          "base_uri": "https://localhost:8080/"
        },
        "id": "fwHIsUyh5T7s",
        "outputId": "ffe0b999-37a3-4e9e-f1cc-775b8ba6b9cc"
      },
      "execution_count": 26,
      "outputs": [
        {
          "output_type": "stream",
          "name": "stdout",
          "text": [
            "1 threads, time (seconds): 0.001282\n",
            "\n",
            "2 threads, time (seconds): 0.001582\n",
            "\n",
            "3 threads, time (seconds): 0.001886\n",
            "\n",
            "4 threads, time (seconds): 0.002306\n",
            "\n"
          ]
        }
      ]
    },
    {
      "cell_type": "code",
      "source": [
        "!./concurrent-linked-list.out 100000 8 0"
      ],
      "metadata": {
        "colab": {
          "base_uri": "https://localhost:8080/"
        },
        "id": "qYE8MEt25UE_",
        "outputId": "51e759b7-d206-45f8-d4de-2ba7458ecb9f"
      },
      "execution_count": 27,
      "outputs": [
        {
          "output_type": "stream",
          "name": "stdout",
          "text": [
            "1 threads, time (seconds): 0.001167\n",
            "\n",
            "2 threads, time (seconds): 0.001366\n",
            "\n",
            "3 threads, time (seconds): 0.001656\n",
            "\n",
            "4 threads, time (seconds): 0.002146\n",
            "\n",
            "5 threads, time (seconds): 0.002571\n",
            "\n",
            "6 threads, time (seconds): 0.003182\n",
            "\n",
            "7 threads, time (seconds): 0.003602\n",
            "\n",
            "8 threads, time (seconds): 0.004196\n",
            "\n"
          ]
        }
      ]
    },
    {
      "cell_type": "code",
      "source": [
        "!./concurrent-linked-list.out 100000 16 0"
      ],
      "metadata": {
        "colab": {
          "base_uri": "https://localhost:8080/"
        },
        "id": "ebzD4qlJ5fph",
        "outputId": "72c474ce-9d15-4f43-b6b4-dd5e4e29f44c"
      },
      "execution_count": 28,
      "outputs": [
        {
          "output_type": "stream",
          "name": "stdout",
          "text": [
            "1 threads, time (seconds): 0.001382\n",
            "\n",
            "2 threads, time (seconds): 0.001545\n",
            "\n",
            "3 threads, time (seconds): 0.002013\n",
            "\n",
            "4 threads, time (seconds): 0.002237\n",
            "\n",
            "5 threads, time (seconds): 0.002802\n",
            "\n",
            "6 threads, time (seconds): 0.004403\n",
            "\n",
            "7 threads, time (seconds): 0.003999\n",
            "\n",
            "8 threads, time (seconds): 0.004417\n",
            "\n",
            "9 threads, time (seconds): 0.004818\n",
            "\n",
            "10 threads, time (seconds): 0.005168\n",
            "\n",
            "11 threads, time (seconds): 0.005827\n",
            "\n",
            "12 threads, time (seconds): 0.006634\n",
            "\n",
            "13 threads, time (seconds): 0.007250\n",
            "\n",
            "14 threads, time (seconds): 0.007425\n",
            "\n",
            "15 threads, time (seconds): 0.007988\n",
            "\n",
            "16 threads, time (seconds): 0.008523\n",
            "\n"
          ]
        }
      ]
    },
    {
      "cell_type": "code",
      "source": [
        "!./concurrent-linked-list.out 100000 32 0"
      ],
      "metadata": {
        "colab": {
          "base_uri": "https://localhost:8080/"
        },
        "id": "IMPbvL6T5gVs",
        "outputId": "1d1f64d2-8171-41a1-e0ac-159f41834ebd"
      },
      "execution_count": 29,
      "outputs": [
        {
          "output_type": "stream",
          "name": "stdout",
          "text": [
            "1 threads, time (seconds): 0.003543\n",
            "\n",
            "2 threads, time (seconds): 0.002195\n",
            "\n",
            "3 threads, time (seconds): 0.002542\n",
            "\n",
            "4 threads, time (seconds): 0.003119\n",
            "\n",
            "5 threads, time (seconds): 0.003236\n",
            "\n",
            "6 threads, time (seconds): 0.004434\n",
            "\n",
            "7 threads, time (seconds): 0.008370\n",
            "\n",
            "8 threads, time (seconds): 0.006445\n",
            "\n",
            "9 threads, time (seconds): 0.006098\n",
            "\n",
            "10 threads, time (seconds): 0.008391\n",
            "\n",
            "11 threads, time (seconds): 0.015211\n",
            "\n",
            "12 threads, time (seconds): 0.012051\n",
            "\n",
            "13 threads, time (seconds): 0.011959\n",
            "\n",
            "14 threads, time (seconds): 0.011773\n",
            "\n",
            "15 threads, time (seconds): 0.012910\n",
            "\n",
            "16 threads, time (seconds): 0.014076\n",
            "\n",
            "17 threads, time (seconds): 0.013404\n",
            "\n",
            "18 threads, time (seconds): 0.014133\n",
            "\n",
            "19 threads, time (seconds): 0.013438\n",
            "\n",
            "20 threads, time (seconds): 0.023189\n",
            "\n",
            "21 threads, time (seconds): 0.015431\n",
            "\n",
            "22 threads, time (seconds): 0.015096\n",
            "\n",
            "23 threads, time (seconds): 0.015785\n",
            "\n",
            "24 threads, time (seconds): 0.014716\n",
            "\n",
            "25 threads, time (seconds): 0.024170\n",
            "\n",
            "26 threads, time (seconds): 0.037759\n",
            "\n",
            "27 threads, time (seconds): 0.031651\n",
            "\n",
            "28 threads, time (seconds): 0.034460\n",
            "\n",
            "29 threads, time (seconds): 0.019389\n",
            "\n",
            "30 threads, time (seconds): 0.023970\n",
            "\n",
            "31 threads, time (seconds): 0.017566\n",
            "\n",
            "32 threads, time (seconds): 0.043186\n",
            "\n"
          ]
        }
      ]
    },
    {
      "cell_type": "markdown",
      "source": [
        "-----------------------"
      ],
      "metadata": {
        "id": "SAZV8FG93ybU"
      }
    },
    {
      "cell_type": "markdown",
      "source": [
        "hand-over-hand linked list 실험 내용\n",
        "- [ostep의 hand-over-hand 코드 링크](https://github.com/xxyzz/ostep-hw/blob/master/29/hand-over-hand-locking-list.c)\n",
        "- 위의 concurrent linked list와의 성능 비교"
      ],
      "metadata": {
        "id": "KsY5rc5p30jM"
      }
    },
    {
      "cell_type": "code",
      "source": [
        "!gcc -o hand-over-hand-locking-list.out hand-over-hand-locking-list.c thread_helper.h -pthread"
      ],
      "metadata": {
        "id": "sVWWkzbx3xqK"
      },
      "execution_count": 17,
      "outputs": []
    },
    {
      "cell_type": "code",
      "source": [
        "!./hand-over-hand-locking-list.out 10 2 1"
      ],
      "metadata": {
        "colab": {
          "base_uri": "https://localhost:8080/"
        },
        "id": "miox4FWI3Yq1",
        "outputId": "110642a0-70c1-4b11-c338-e66dba2b62e9"
      },
      "execution_count": 18,
      "outputs": [
        {
          "output_type": "stream",
          "name": "stdout",
          "text": [
            "9\n",
            "8\n",
            "7\n",
            "6\n",
            "5\n",
            "4\n",
            "3\n",
            "2\n",
            "1\n",
            "0\n",
            "1 threads, time (seconds): 0.000438\n",
            "\n",
            "9\n",
            "8\n",
            "7\n",
            "6\n",
            "5\n",
            "4\n",
            "3\n",
            "2\n",
            "1\n",
            "0\n",
            "2 threads, time (seconds): 0.000139\n",
            "\n"
          ]
        }
      ]
    },
    {
      "cell_type": "code",
      "source": [
        "!./hand-over-hand-locking-list.out 10000 1 0"
      ],
      "metadata": {
        "colab": {
          "base_uri": "https://localhost:8080/"
        },
        "id": "C7mZBXWT3YxX",
        "outputId": "6f313a5a-4f20-4c29-9514-306ece29b936"
      },
      "execution_count": 19,
      "outputs": [
        {
          "output_type": "stream",
          "name": "stdout",
          "text": [
            "1 threads, time (seconds): 0.000827\n",
            "\n"
          ]
        }
      ]
    },
    {
      "cell_type": "code",
      "source": [
        "!./hand-over-hand-locking-list.out 10000 2 0"
      ],
      "metadata": {
        "colab": {
          "base_uri": "https://localhost:8080/"
        },
        "id": "Ca6XZWMs3Y1x",
        "outputId": "c4b048b3-db70-4019-a93c-b9851f8687f0"
      },
      "execution_count": 20,
      "outputs": [
        {
          "output_type": "stream",
          "name": "stdout",
          "text": [
            "1 threads, time (seconds): 0.000605\n",
            "\n",
            "2 threads, time (seconds): 0.000415\n",
            "\n"
          ]
        }
      ]
    },
    {
      "cell_type": "code",
      "source": [
        "!./hand-over-hand-locking-list.out 10000 4 0"
      ],
      "metadata": {
        "colab": {
          "base_uri": "https://localhost:8080/"
        },
        "id": "uUVPEdg55EQq",
        "outputId": "0ce88e63-8b13-4b31-f6bf-511e05004189"
      },
      "execution_count": 21,
      "outputs": [
        {
          "output_type": "stream",
          "name": "stdout",
          "text": [
            "1 threads, time (seconds): 0.000907\n",
            "\n",
            "2 threads, time (seconds): 0.000575\n",
            "\n",
            "3 threads, time (seconds): 0.000864\n",
            "\n",
            "4 threads, time (seconds): 0.000960\n",
            "\n"
          ]
        }
      ]
    },
    {
      "cell_type": "code",
      "source": [
        "!./hand-over-hand-locking-list.out 10000 8 0"
      ],
      "metadata": {
        "colab": {
          "base_uri": "https://localhost:8080/"
        },
        "id": "WJ3c4D695GLN",
        "outputId": "57970521-76e8-4a91-eba9-1ad66c35c864"
      },
      "execution_count": 22,
      "outputs": [
        {
          "output_type": "stream",
          "name": "stdout",
          "text": [
            "1 threads, time (seconds): 0.000949\n",
            "\n",
            "2 threads, time (seconds): 0.000765\n",
            "\n",
            "3 threads, time (seconds): 0.001153\n",
            "\n",
            "4 threads, time (seconds): 0.001375\n",
            "\n",
            "5 threads, time (seconds): 0.001483\n",
            "\n",
            "6 threads, time (seconds): 0.001562\n",
            "\n",
            "7 threads, time (seconds): 0.001970\n",
            "\n",
            "8 threads, time (seconds): 0.011336\n",
            "\n"
          ]
        }
      ]
    },
    {
      "cell_type": "code",
      "source": [
        "!./hand-over-hand-locking-list.out 10000 16 0"
      ],
      "metadata": {
        "colab": {
          "base_uri": "https://localhost:8080/"
        },
        "id": "LFVERwil5ITP",
        "outputId": "c04c5705-95bb-415f-c000-0a9915504985"
      },
      "execution_count": 23,
      "outputs": [
        {
          "output_type": "stream",
          "name": "stdout",
          "text": [
            "1 threads, time (seconds): 0.000777\n",
            "\n",
            "2 threads, time (seconds): 0.000464\n",
            "\n",
            "3 threads, time (seconds): 0.000719\n",
            "\n",
            "4 threads, time (seconds): 0.000874\n",
            "\n",
            "5 threads, time (seconds): 0.001215\n",
            "\n",
            "6 threads, time (seconds): 0.001426\n",
            "\n",
            "7 threads, time (seconds): 0.001513\n",
            "\n",
            "8 threads, time (seconds): 0.001712\n",
            "\n",
            "9 threads, time (seconds): 0.001985\n",
            "\n",
            "10 threads, time (seconds): 0.003111\n",
            "\n",
            "11 threads, time (seconds): 0.002621\n",
            "\n",
            "12 threads, time (seconds): 0.002635\n",
            "\n",
            "13 threads, time (seconds): 0.005001\n",
            "\n",
            "14 threads, time (seconds): 0.003423\n",
            "\n",
            "15 threads, time (seconds): 0.004422\n",
            "\n",
            "16 threads, time (seconds): 0.025562\n",
            "\n"
          ]
        }
      ]
    },
    {
      "cell_type": "code",
      "source": [
        "!./hand-over-hand-locking-list.out 100000 1 0"
      ],
      "metadata": {
        "colab": {
          "base_uri": "https://localhost:8080/"
        },
        "id": "HHDXhMHY5smB",
        "outputId": "29a996cb-366d-474a-de40-7a573dc735cb"
      },
      "execution_count": 30,
      "outputs": [
        {
          "output_type": "stream",
          "name": "stdout",
          "text": [
            "1 threads, time (seconds): 0.003113\n",
            "\n"
          ]
        }
      ]
    },
    {
      "cell_type": "code",
      "source": [
        "!./hand-over-hand-locking-list.out 100000 2 0"
      ],
      "metadata": {
        "colab": {
          "base_uri": "https://localhost:8080/"
        },
        "id": "sPQcH3Qv5s3f",
        "outputId": "4366d3ad-8ddb-4294-afaa-73daedc3c67f"
      },
      "execution_count": 32,
      "outputs": [
        {
          "output_type": "stream",
          "name": "stdout",
          "text": [
            "1 threads, time (seconds): 0.003397\n",
            "\n",
            "2 threads, time (seconds): 0.004478\n",
            "\n"
          ]
        }
      ]
    },
    {
      "cell_type": "code",
      "source": [
        "!./hand-over-hand-locking-list.out 100000 4 0"
      ],
      "metadata": {
        "colab": {
          "base_uri": "https://localhost:8080/"
        },
        "id": "v3h4gwlZ5tBK",
        "outputId": "b6d9ab64-234a-40e7-fe76-6c2cfc752379"
      },
      "execution_count": 33,
      "outputs": [
        {
          "output_type": "stream",
          "name": "stdout",
          "text": [
            "1 threads, time (seconds): 0.004302\n",
            "\n",
            "2 threads, time (seconds): 0.007720\n",
            "\n",
            "3 threads, time (seconds): 0.008593\n",
            "\n",
            "4 threads, time (seconds): 0.015409\n",
            "\n"
          ]
        }
      ]
    },
    {
      "cell_type": "code",
      "source": [
        "!./hand-over-hand-locking-list.out 100000 8 0"
      ],
      "metadata": {
        "colab": {
          "base_uri": "https://localhost:8080/"
        },
        "id": "tRWpzGFK55bV",
        "outputId": "4d1569bd-6e2a-4b54-e659-78ab72700252"
      },
      "execution_count": 34,
      "outputs": [
        {
          "output_type": "stream",
          "name": "stdout",
          "text": [
            "1 threads, time (seconds): 0.004046\n",
            "\n",
            "2 threads, time (seconds): 0.007324\n",
            "\n",
            "3 threads, time (seconds): 0.009916\n",
            "\n",
            "4 threads, time (seconds): 0.019313\n",
            "\n",
            "5 threads, time (seconds): 0.014335\n",
            "\n",
            "6 threads, time (seconds): 0.019940\n",
            "\n",
            "7 threads, time (seconds): 0.024619\n",
            "\n",
            "8 threads, time (seconds): 0.025412\n",
            "\n"
          ]
        }
      ]
    },
    {
      "cell_type": "code",
      "source": [
        "!./hand-over-hand-locking-list.out 100000 16 0"
      ],
      "metadata": {
        "colab": {
          "base_uri": "https://localhost:8080/"
        },
        "id": "dt9nYz6M55jc",
        "outputId": "36c7e08f-fd81-4556-d609-f5c7ba31fb13"
      },
      "execution_count": 35,
      "outputs": [
        {
          "output_type": "stream",
          "name": "stdout",
          "text": [
            "1 threads, time (seconds): 0.003847\n",
            "\n",
            "2 threads, time (seconds): 0.004832\n",
            "\n",
            "3 threads, time (seconds): 0.006369\n",
            "\n",
            "4 threads, time (seconds): 0.007821\n",
            "\n",
            "5 threads, time (seconds): 0.010483\n",
            "\n",
            "6 threads, time (seconds): 0.011480\n",
            "\n",
            "7 threads, time (seconds): 0.013732\n",
            "\n",
            "8 threads, time (seconds): 0.015849\n",
            "\n",
            "9 threads, time (seconds): 0.020093\n",
            "\n",
            "10 threads, time (seconds): 0.018946\n",
            "\n",
            "11 threads, time (seconds): 0.022418\n",
            "\n",
            "12 threads, time (seconds): 0.037417\n",
            "\n",
            "13 threads, time (seconds): 0.025539\n",
            "\n",
            "14 threads, time (seconds): 0.026096\n",
            "\n",
            "15 threads, time (seconds): 0.030319\n",
            "\n",
            "16 threads, time (seconds): 0.030311\n",
            "\n"
          ]
        }
      ]
    },
    {
      "cell_type": "code",
      "source": [
        "!./hand-over-hand-locking-list.out 100000 32 0"
      ],
      "metadata": {
        "colab": {
          "base_uri": "https://localhost:8080/"
        },
        "id": "EBeBfV0m55s_",
        "outputId": "f76ebaa9-bd26-49c5-9760-cbbbceb89d8e"
      },
      "execution_count": 36,
      "outputs": [
        {
          "output_type": "stream",
          "name": "stdout",
          "text": [
            "1 threads, time (seconds): 0.003434\n",
            "\n",
            "2 threads, time (seconds): 0.005367\n",
            "\n",
            "3 threads, time (seconds): 0.008089\n",
            "\n",
            "4 threads, time (seconds): 0.008289\n",
            "\n",
            "5 threads, time (seconds): 0.010071\n",
            "\n",
            "6 threads, time (seconds): 0.011335\n",
            "\n",
            "7 threads, time (seconds): 0.013018\n",
            "\n",
            "8 threads, time (seconds): 0.015280\n",
            "\n",
            "9 threads, time (seconds): 0.020042\n",
            "\n",
            "10 threads, time (seconds): 0.019693\n",
            "\n",
            "11 threads, time (seconds): 0.023690\n",
            "\n",
            "12 threads, time (seconds): 0.040669\n",
            "\n",
            "13 threads, time (seconds): 0.036839\n",
            "\n",
            "14 threads, time (seconds): 0.031006\n",
            "\n",
            "15 threads, time (seconds): 0.046293\n",
            "\n",
            "16 threads, time (seconds): 0.033781\n",
            "\n",
            "17 threads, time (seconds): 0.041481\n",
            "\n",
            "18 threads, time (seconds): 0.046906\n",
            "\n",
            "19 threads, time (seconds): 0.059096\n",
            "\n",
            "20 threads, time (seconds): 0.040507\n",
            "\n",
            "21 threads, time (seconds): 0.058410\n",
            "\n",
            "22 threads, time (seconds): 0.058522\n",
            "\n",
            "23 threads, time (seconds): 0.200832\n",
            "\n",
            "24 threads, time (seconds): 0.130180\n",
            "\n",
            "25 threads, time (seconds): 0.124566\n",
            "\n",
            "26 threads, time (seconds): 0.069465\n",
            "\n",
            "27 threads, time (seconds): 0.149257\n",
            "\n",
            "28 threads, time (seconds): 0.117740\n",
            "\n",
            "29 threads, time (seconds): 0.068186\n",
            "\n",
            "30 threads, time (seconds): 0.140263\n",
            "\n",
            "31 threads, time (seconds): 0.139021\n",
            "\n",
            "32 threads, time (seconds): 0.134916\n",
            "\n"
          ]
        }
      ]
    },
    {
      "cell_type": "markdown",
      "source": [
        "-------------------------"
      ],
      "metadata": {
        "id": "_ZC5fANp6jA8"
      }
    },
    {
      "cell_type": "code",
      "source": [
        "!./hand-over-hand-locking-list.out 100000 32 0 > hand.txt\n",
        "!./concurrent-linked-list.out 100000 32 0 > coarse.txt"
      ],
      "metadata": {
        "id": "m5KLv9qX6kj2"
      },
      "execution_count": 39,
      "outputs": []
    },
    {
      "cell_type": "code",
      "source": [
        "%%bash\n",
        "# 1) hand.txt에서 \"threads\" 줄을 뽑아 (쓰레드,시간) 형식 CSV로\n",
        "grep 'threads' hand.txt | awk -F'[:, ]+' '{print $1\",\"$NF}' > hand.csv\n",
        "# 2) coarse.txt도 동일하게\n",
        "grep 'threads' coarse.txt | awk -F'[:, ]+' '{print $1\",\"$NF}' > coarse.csv\n",
        "# 3) 두 CSV를 쓰레드 번호로 병합해 결과 CSV 생성\n",
        "echo \"threads,hand,coarse\" > results.csv\n",
        "paste -d, hand.csv coarse.csv \\\n",
        "  | awk -F, '{print $1\",\"$2\",\"$4}' >> results.csv\n",
        "# 확인\n",
        "cat results.csv"
      ],
      "metadata": {
        "colab": {
          "base_uri": "https://localhost:8080/"
        },
        "id": "9MwpSz1j6k3e",
        "outputId": "5cae0f9f-f53a-4125-84c9-a71c8bef5dcf"
      },
      "execution_count": 42,
      "outputs": [
        {
          "output_type": "stream",
          "name": "stdout",
          "text": [
            "threads,hand,coarse\n",
            "1,0.003340,0.001270\n",
            "2,0.004324,0.001593\n",
            "3,0.006464,0.001958\n",
            "4,0.007349,0.002563\n",
            "5,0.009327,0.003057\n",
            "6,0.011909,0.003945\n",
            "7,0.014438,0.005355\n",
            "8,0.014940,0.005747\n",
            "9,0.020892,0.008744\n",
            "10,0.026519,0.006345\n",
            "11,0.025891,0.006706\n",
            "12,0.024881,0.007280\n",
            "13,0.039514,0.007628\n",
            "14,0.033513,0.007702\n",
            "15,0.091412,0.009094\n",
            "16,0.091425,0.012312\n",
            "17,0.051201,0.009996\n",
            "18,0.048556,0.009393\n",
            "19,0.043250,0.010043\n",
            "20,0.042485,0.010854\n",
            "21,0.038674,0.012069\n",
            "22,0.042582,0.011560\n",
            "23,0.050436,0.019026\n",
            "24,0.104836,0.024827\n",
            "25,0.083670,0.016887\n",
            "26,0.109369,0.015076\n",
            "27,0.111926,0.014753\n",
            "28,0.177523,0.014485\n",
            "29,0.086307,0.015365\n",
            "30,0.216544,0.015502\n",
            "31,0.234236,0.016045\n",
            "32,0.078480,0.017643\n"
          ]
        }
      ]
    },
    {
      "cell_type": "code",
      "source": [
        "import pandas as pd\n",
        "import matplotlib.pyplot as plt\n",
        "\n",
        "df = pd.read_csv('results.csv')\n",
        "plt.bar(df['threads'] - 0.2, df['hand'], width=0.4, label='hand-over-hand')\n",
        "plt.bar(df['threads'] + 0.2, df['coarse'], width=0.4, label='concurrent')\n",
        "plt.xlabel('Threads')\n",
        "plt.ylabel('Time (s)')\n",
        "plt.legend()\n",
        "plt.show()"
      ],
      "metadata": {
        "colab": {
          "base_uri": "https://localhost:8080/",
          "height": 449
        },
        "id": "OFJJg-h_6k79",
        "outputId": "9d019e75-32c5-496f-f4f9-e91dc2444f9c"
      },
      "execution_count": 44,
      "outputs": [
        {
          "output_type": "display_data",
          "data": {
            "text/plain": [
              "<Figure size 640x480 with 1 Axes>"
            ],
            "image/png": "[encoded data removed]"
          },
          "metadata": {}
        }
      ]
    }
  ]
}
